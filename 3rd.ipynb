{
  "nbformat": 4,
  "nbformat_minor": 0,
  "metadata": {
    "colab": {
      "name": "1st.ipynb",
      "provenance": [],
      "authorship_tag": "ABX9TyOhiGxDNS8IN1aSTHo/iv1V",
      "include_colab_link": true
    },
    "kernelspec": {
      "name": "python3",
      "display_name": "Python 3"
    },
    "language_info": {
      "name": "python"
    }
  },
  "cells": [
    {
      "cell_type": "markdown",
      "metadata": {
        "id": "view-in-github",
        "colab_type": "text"
      },
      "source": [
        "<a href=\"https://colab.research.google.com/github/divs1111/Python-study/blob/main/3rd.ipynb\" target=\"_parent\"><img src=\"https://colab.research.google.com/assets/colab-badge.svg\" alt=\"Open In Colab\"/></a>"
      ]
    },
    {
      "cell_type": "code",
      "metadata": {
        "id": "1pNvoOuUPUPR",
        "colab": {
          "base_uri": "https://localhost:8080/"
        },
        "outputId": "2cddd4fb-019a-4922-ed20-b2cc416f87ea"
      },
      "source": [
        "!unzip python-novice-inflammation-data.zip"
      ],
      "execution_count": 1,
      "outputs": [
        {
          "output_type": "stream",
          "name": "stdout",
          "text": [
            "Archive:  python-novice-inflammation-data.zip\n",
            "   creating: data/\n",
            "  inflating: data/inflammation-01.csv  \n",
            "  inflating: data/inflammation-02.csv  \n",
            "  inflating: data/inflammation-03.csv  \n",
            "  inflating: data/inflammation-04.csv  \n",
            "  inflating: data/inflammation-05.csv  \n",
            "  inflating: data/inflammation-06.csv  \n",
            "  inflating: data/inflammation-07.csv  \n",
            "  inflating: data/inflammation-08.csv  \n",
            "  inflating: data/inflammation-09.csv  \n",
            "  inflating: data/inflammation-10.csv  \n",
            "  inflating: data/inflammation-11.csv  \n",
            "  inflating: data/inflammation-12.csv  \n",
            " extracting: data/small-01.csv       \n",
            " extracting: data/small-02.csv       \n",
            " extracting: data/small-03.csv       \n"
          ]
        }
      ]
    },
    {
      "cell_type": "code",
      "metadata": {
        "id": "4qw_rhMKQPgn"
      },
      "source": [
        "planet = 'Earth'"
      ],
      "execution_count": null,
      "outputs": []
    },
    {
      "cell_type": "code",
      "metadata": {
        "colab": {
          "base_uri": "https://localhost:8080/"
        },
        "id": "eq9LhFCYR45O",
        "outputId": "f41e290a-b766-4437-e339-e492a87b6ce1"
      },
      "source": [
        "type(planet)"
      ],
      "execution_count": null,
      "outputs": [
        {
          "output_type": "execute_result",
          "data": {
            "text/plain": [
              "str"
            ]
          },
          "metadata": {},
          "execution_count": 3
        }
      ]
    },
    {
      "cell_type": "code",
      "metadata": {
        "id": "zbH_c1VaSiPV"
      },
      "source": [
        "import numpy"
      ],
      "execution_count": 2,
      "outputs": []
    },
    {
      "cell_type": "code",
      "metadata": {
        "colab": {
          "base_uri": "https://localhost:8080/"
        },
        "id": "HAuDwnZzSoE7",
        "outputId": "9a5359be-5b39-46ae-b45f-b3366ac9e525"
      },
      "source": [
        "numpy.loadtxt(fname='./data/inflammation-01.csv', delimiter =',')"
      ],
      "execution_count": 3,
      "outputs": [
        {
          "output_type": "execute_result",
          "data": {
            "text/plain": [
              "array([[0., 0., 1., ..., 3., 0., 0.],\n",
              "       [0., 1., 2., ..., 1., 0., 1.],\n",
              "       [0., 1., 1., ..., 2., 1., 1.],\n",
              "       ...,\n",
              "       [0., 1., 1., ..., 1., 1., 1.],\n",
              "       [0., 0., 0., ..., 0., 2., 0.],\n",
              "       [0., 0., 1., ..., 1., 1., 0.]])"
            ]
          },
          "metadata": {},
          "execution_count": 3
        }
      ]
    },
    {
      "cell_type": "markdown",
      "metadata": {
        "id": "GNRPbY1TPVnf"
      },
      "source": [
        "# New Section"
      ]
    },
    {
      "cell_type": "code",
      "metadata": {
        "id": "LJahOM4TVGUc"
      },
      "source": [
        "data = numpy.loadtxt(fname = './data/inflammation-01.csv', delimiter = ',')"
      ],
      "execution_count": 4,
      "outputs": []
    },
    {
      "cell_type": "code",
      "metadata": {
        "colab": {
          "base_uri": "https://localhost:8080/"
        },
        "id": "ACafCN67VfXi",
        "outputId": "3bb9cfb6-d824-482b-8c4f-cd15a71989fe"
      },
      "source": [
        "print(data)"
      ],
      "execution_count": null,
      "outputs": [
        {
          "output_type": "stream",
          "name": "stdout",
          "text": [
            "[[0. 0. 1. ... 3. 0. 0.]\n",
            " [0. 1. 2. ... 1. 0. 1.]\n",
            " [0. 1. 1. ... 2. 1. 1.]\n",
            " ...\n",
            " [0. 1. 1. ... 1. 1. 1.]\n",
            " [0. 0. 0. ... 0. 2. 0.]\n",
            " [0. 0. 1. ... 1. 1. 0.]]\n"
          ]
        }
      ]
    },
    {
      "cell_type": "code",
      "metadata": {
        "colab": {
          "base_uri": "https://localhost:8080/"
        },
        "id": "xwoKy_JNV6os",
        "outputId": "644bf4f4-a9e6-4159-e9de-0cacc138ca8a"
      },
      "source": [
        "type(data)"
      ],
      "execution_count": null,
      "outputs": [
        {
          "output_type": "execute_result",
          "data": {
            "text/plain": [
              "numpy.ndarray"
            ]
          },
          "metadata": {},
          "execution_count": 23
        }
      ]
    },
    {
      "cell_type": "code",
      "metadata": {
        "colab": {
          "base_uri": "https://localhost:8080/"
        },
        "id": "oBGe5CmhXANm",
        "outputId": "0efddcdd-f808-41b3-b0fb-7ddd44a27c67"
      },
      "source": [
        "print(data.dtype)"
      ],
      "execution_count": null,
      "outputs": [
        {
          "output_type": "stream",
          "name": "stdout",
          "text": [
            "float64\n"
          ]
        }
      ]
    },
    {
      "cell_type": "code",
      "metadata": {
        "colab": {
          "base_uri": "https://localhost:8080/"
        },
        "id": "NEu_LLlAXFGA",
        "outputId": "ef286ab2-eb5a-4b35-a525-0d92df3d416b"
      },
      "source": [
        "print(data.shape)"
      ],
      "execution_count": null,
      "outputs": [
        {
          "output_type": "stream",
          "name": "stdout",
          "text": [
            "(60, 40)\n"
          ]
        }
      ]
    },
    {
      "cell_type": "code",
      "metadata": {
        "colab": {
          "base_uri": "https://localhost:8080/"
        },
        "id": "M6f10ONvXHYs",
        "outputId": "9786e1e3-28ee-46c5-e8ab-fcc35bbecba5"
      },
      "source": [
        "print('first value in data',data[0,0])"
      ],
      "execution_count": null,
      "outputs": [
        {
          "output_type": "stream",
          "name": "stdout",
          "text": [
            "first value in data 0.0\n"
          ]
        }
      ]
    },
    {
      "cell_type": "code",
      "metadata": {
        "colab": {
          "base_uri": "https://localhost:8080/"
        },
        "id": "O696mxDlYGTK",
        "outputId": "9f8913ef-66c9-4364-902e-c65f995dfd0c"
      },
      "source": [
        "print('last value in data',data[59,39])"
      ],
      "execution_count": null,
      "outputs": [
        {
          "output_type": "stream",
          "name": "stdout",
          "text": [
            "last value in data 0.0\n"
          ]
        }
      ]
    },
    {
      "cell_type": "code",
      "metadata": {
        "colab": {
          "base_uri": "https://localhost:8080/"
        },
        "id": "m9OnY4q5YT5J",
        "outputId": "244c6154-707e-4306-e78d-b8e720e18b92"
      },
      "source": [
        "print(data[0:10, 0:20])"
      ],
      "execution_count": null,
      "outputs": [
        {
          "output_type": "stream",
          "name": "stdout",
          "text": [
            "[[ 0.  0.  1.  3.  1.  2.  4.  7.  8.  3.  3.  3. 10.  5.  7.  4.  7.  7.\n",
            "  12. 18.]\n",
            " [ 0.  1.  2.  1.  2.  1.  3.  2.  2.  6. 10. 11.  5.  9.  4.  4.  7. 16.\n",
            "   8.  6.]\n",
            " [ 0.  1.  1.  3.  3.  2.  6.  2.  5.  9.  5.  7.  4.  5.  4. 15.  5. 11.\n",
            "   9. 10.]\n",
            " [ 0.  0.  2.  0.  4.  2.  2.  1.  6.  7. 10.  7.  9. 13.  8.  8. 15. 10.\n",
            "  10.  7.]\n",
            " [ 0.  1.  1.  3.  3.  1.  3.  5.  2.  4.  4.  7.  6.  5.  3. 10.  8. 10.\n",
            "   6. 17.]\n",
            " [ 0.  0.  1.  2.  2.  4.  2.  1.  6.  4.  7.  6.  6.  9.  9. 15.  4. 16.\n",
            "  18. 12.]\n",
            " [ 0.  0.  2.  2.  4.  2.  2.  5.  5.  8.  6.  5. 11.  9.  4. 13.  5. 12.\n",
            "  10.  6.]\n",
            " [ 0.  0.  1.  2.  3.  1.  2.  3.  5.  3.  7.  8.  8.  5. 10.  9. 15. 11.\n",
            "  18. 19.]\n",
            " [ 0.  0.  0.  3.  1.  5.  6.  5.  5.  8.  2.  4. 11. 12. 10. 11.  9. 10.\n",
            "  17. 11.]\n",
            " [ 0.  1.  1.  2.  1.  3.  5.  3.  5.  8.  6.  8. 12.  5. 13.  6. 13.  8.\n",
            "  16.  8.]]\n"
          ]
        }
      ]
    },
    {
      "cell_type": "code",
      "metadata": {
        "colab": {
          "base_uri": "https://localhost:8080/"
        },
        "id": "PWRpqPzGYr4w",
        "outputId": "d446cca8-f8da-4056-fbfa-3b2be5145bc2"
      },
      "source": [
        "print(numpy.mean(data))"
      ],
      "execution_count": null,
      "outputs": [
        {
          "output_type": "stream",
          "name": "stdout",
          "text": [
            "6.14875\n"
          ]
        }
      ]
    },
    {
      "cell_type": "code",
      "metadata": {
        "colab": {
          "base_uri": "https://localhost:8080/"
        },
        "id": "OecQnZdwZEec",
        "outputId": "b8cdd2a1-16c0-49dd-c065-e70d2c182e0b"
      },
      "source": [
        "x = numpy.mean(data)\n",
        "print(x)"
      ],
      "execution_count": null,
      "outputs": [
        {
          "output_type": "stream",
          "name": "stdout",
          "text": [
            "6.14875\n"
          ]
        }
      ]
    },
    {
      "cell_type": "code",
      "metadata": {
        "colab": {
          "base_uri": "https://localhost:8080/"
        },
        "id": "l27j9xZvZV7U",
        "outputId": "05623979-ab83-4a97-805a-ef3af365ea7d"
      },
      "source": [
        "import time\n",
        "print(time.ctime())"
      ],
      "execution_count": null,
      "outputs": [
        {
          "output_type": "stream",
          "name": "stdout",
          "text": [
            "Sat Sep 11 05:48:24 2021\n"
          ]
        }
      ]
    },
    {
      "cell_type": "code",
      "metadata": {
        "colab": {
          "base_uri": "https://localhost:8080/"
        },
        "id": "Yyx0JokUZuE_",
        "outputId": "31301807-8100-40af-8ef2-389534a50db0"
      },
      "source": [
        "print('maximum inflammation', numpy.max(data))\n",
        "print('minimum inflammation', numpy.min(data))\n",
        "print('standard deviation', numpy.std(data))"
      ],
      "execution_count": null,
      "outputs": [
        {
          "output_type": "stream",
          "name": "stdout",
          "text": [
            "maximum inflammation 20.0\n",
            "minimum inflammation 0.0\n",
            "standard deviation 4.613833197118566\n"
          ]
        }
      ]
    },
    {
      "cell_type": "code",
      "metadata": {
        "colab": {
          "base_uri": "https://localhost:8080/"
        },
        "id": "B7jthtkqaYgt",
        "outputId": "6742b3f5-b216-4133-a464-47ab60611d0f"
      },
      "source": [
        "print('maximum inflammation of patient 0 is', numpy.max(data[0,:]))"
      ],
      "execution_count": null,
      "outputs": [
        {
          "output_type": "stream",
          "name": "stdout",
          "text": [
            "maximum inflammation of patient 0 is 18.0\n"
          ]
        }
      ]
    },
    {
      "cell_type": "code",
      "metadata": {
        "colab": {
          "base_uri": "https://localhost:8080/"
        },
        "id": "MsE3EPK6bhxI",
        "outputId": "daafc276-506f-4e60-f2d9-50aff19f89fd"
      },
      "source": [
        "print('minimum inflammation of patient 2 is', numpy.min(data[2:]))"
      ],
      "execution_count": null,
      "outputs": [
        {
          "output_type": "stream",
          "name": "stdout",
          "text": [
            "minimum inflammation of patient 2 is 0.0\n"
          ]
        }
      ]
    },
    {
      "cell_type": "code",
      "metadata": {
        "colab": {
          "base_uri": "https://localhost:8080/"
        },
        "id": "V9g2Wf-Xb6lE",
        "outputId": "9969597c-34c3-4359-8644-69d2a0ed39cf"
      },
      "source": [
        "print(numpy.max(data, axis=1))"
      ],
      "execution_count": null,
      "outputs": [
        {
          "output_type": "stream",
          "name": "stdout",
          "text": [
            "[18. 18. 19. 17. 17. 18. 17. 20. 17. 18. 18. 18. 17. 16. 17. 18. 19. 19.\n",
            " 17. 19. 19. 16. 17. 15. 17. 17. 18. 17. 20. 17. 16. 19. 15. 15. 19. 17.\n",
            " 16. 17. 19. 16. 18. 19. 16. 19. 18. 16. 19. 15. 16. 18. 14. 20. 17. 15.\n",
            " 17. 16. 17. 19. 18. 18.]\n"
          ]
        }
      ]
    },
    {
      "cell_type": "code",
      "metadata": {
        "colab": {
          "base_uri": "https://localhost:8080/"
        },
        "id": "XBZ89AB1cy13",
        "outputId": "d5e5d227-1e06-4e4a-9bf9-133000ac9a45"
      },
      "source": [
        "print(numpy.max(data, axis=0).shape)"
      ],
      "execution_count": null,
      "outputs": [
        {
          "output_type": "stream",
          "name": "stdout",
          "text": [
            "(40,)\n"
          ]
        }
      ]
    },
    {
      "cell_type": "code",
      "metadata": {
        "colab": {
          "base_uri": "https://localhost:8080/"
        },
        "id": "7PbUQWvGdCks",
        "outputId": "fd732881-16bd-4b16-ec8d-a9c638b3da48"
      },
      "source": [
        "element = 'oxygen';\n",
        "print(element[1:-1])"
      ],
      "execution_count": null,
      "outputs": [
        {
          "output_type": "stream",
          "name": "stdout",
          "text": [
            "xyge\n"
          ]
        }
      ]
    },
    {
      "cell_type": "code",
      "metadata": {
        "colab": {
          "base_uri": "https://localhost:8080/"
        },
        "id": "5YC-wBRDjgrc",
        "outputId": "e39e9017-b3f8-4d39-b51b-70752e35121c"
      },
      "source": [
        "print(data[3:3,4:4])\n",
        "print(data[3:3,:])"
      ],
      "execution_count": null,
      "outputs": [
        {
          "output_type": "stream",
          "name": "stdout",
          "text": [
            "[]\n",
            "[]\n"
          ]
        }
      ]
    },
    {
      "cell_type": "code",
      "metadata": {
        "colab": {
          "base_uri": "https://localhost:8080/"
        },
        "id": "W9vmaX-FtSst",
        "outputId": "1fecc2a2-8c00-44ae-b4de-e34a4e6b8d4f"
      },
      "source": [
        "A = numpy.array([[1,2,3],[4,5,6],[7,8,9]])\n",
        "print('A =')\n",
        "print(A)\n",
        "B = A[:, 0:3:2]\n",
        "print('B =')\n",
        "print(B)"
      ],
      "execution_count": null,
      "outputs": [
        {
          "output_type": "stream",
          "name": "stdout",
          "text": [
            "A =\n",
            "[[1 2 3]\n",
            " [4 5 6]\n",
            " [7 8 9]]\n",
            "B =\n",
            "[[1 3]\n",
            " [4 6]\n",
            " [7 9]]\n"
          ]
        }
      ]
    },
    {
      "cell_type": "code",
      "metadata": {
        "colab": {
          "base_uri": "https://localhost:8080/"
        },
        "id": "7iVY7_aiy8cK",
        "outputId": "c803badc-58bc-4dc6-bf98-09e82708a0bd"
      },
      "source": [
        "D = numpy.hstack((A[:,:1],A[:,-1:]))\n",
        "print(D)"
      ],
      "execution_count": null,
      "outputs": [
        {
          "output_type": "stream",
          "name": "stdout",
          "text": [
            "[[1 3]\n",
            " [4 6]\n",
            " [7 9]]\n"
          ]
        }
      ]
    },
    {
      "cell_type": "code",
      "metadata": {
        "id": "F4SZRZbGzJSA",
        "colab": {
          "base_uri": "https://localhost:8080/",
          "height": 268
        },
        "outputId": "7a1d656b-cc81-47f4-9287-a4935756b489"
      },
      "source": [
        "import matplotlib.pyplot\n",
        "image = matplotlib.pyplot.imshow(data)\n",
        "matplotlib.pyplot.show()"
      ],
      "execution_count": null,
      "outputs": [
        {
          "output_type": "display_data",
          "data": {
            "image/png": "[encoded data removed]",
            "text/plain": [
              "<Figure size 432x288 with 1 Axes>"
            ]
          },
          "metadata": {
            "needs_background": "light"
          }
        }
      ]
    },
    {
      "cell_type": "code",
      "metadata": {
        "id": "098xL-Qh072o",
        "colab": {
          "base_uri": "https://localhost:8080/",
          "height": 265
        },
        "outputId": "018881fa-a2d3-44de-a5cb-2e8b11996f01"
      },
      "source": [
        "avg_inflammation = numpy.mean(data, axis = 0)\n",
        "avg_plot = matplotlib.pyplot.plot(avg_inflammation)\n",
        "matplotlib.pyplot.show()"
      ],
      "execution_count": null,
      "outputs": [
        {
          "output_type": "display_data",
          "data": {
            "image/png": "[encoded data removed]",
            "text/plain": [
              "<Figure size 432x288 with 1 Axes>"
            ]
          },
          "metadata": {
            "needs_background": "light"
          }
        }
      ]
    },
    {
      "cell_type": "code",
      "metadata": {
        "id": "sOXqJgU11rZT",
        "colab": {
          "base_uri": "https://localhost:8080/",
          "height": 265
        },
        "outputId": "7606c310-45f8-48c4-a572-bc26c34f29d0"
      },
      "source": [
        "max_inflammation = numpy.max(data, axis=0)\n",
        "max_plot = matplotlib.pyplot.plot(max_inflammation)\n",
        "matplotlib.pyplot.show()"
      ],
      "execution_count": null,
      "outputs": [
        {
          "output_type": "display_data",
          "data": {
            "image/png": "[encoded data removed]",
            "text/plain": [
              "<Figure size 432x288 with 1 Axes>"
            ]
          },
          "metadata": {
            "needs_background": "light"
          }
        }
      ]
    },
    {
      "cell_type": "code",
      "metadata": {
        "id": "7DO3lSua2XJZ",
        "colab": {
          "base_uri": "https://localhost:8080/",
          "height": 265
        },
        "outputId": "16720689-289c-45ef-b345-be7be3b3cfdb"
      },
      "source": [
        "min_plot = matplotlib.pyplot.plot(numpy.min(data, axis=0))"
      ],
      "execution_count": null,
      "outputs": [
        {
          "output_type": "display_data",
          "data": {
            "image/png": "[encoded data removed]",
            "text/plain": [
              "<Figure size 432x288 with 1 Axes>"
            ]
          },
          "metadata": {
            "needs_background": "light"
          }
        }
      ]
    },
    {
      "cell_type": "code",
      "metadata": {
        "colab": {
          "base_uri": "https://localhost:8080/",
          "height": 265
        },
        "id": "n8Z8Cxil2hQG",
        "outputId": "02a8f9c8-e0d8-4189-dbc4-bc9d3a01b96a"
      },
      "source": [
        "min_plot = matplotlib.pyplot.plot(numpy.min(data, axis=0))\n",
        "matplotlib.pyplot.show()"
      ],
      "execution_count": null,
      "outputs": [
        {
          "output_type": "display_data",
          "data": {
            "image/png": "[encoded data removed]",
            "text/plain": [
              "<Figure size 432x288 with 1 Axes>"
            ]
          },
          "metadata": {
            "needs_background": "light"
          }
        }
      ]
    },
    {
      "cell_type": "code",
      "metadata": {
        "id": "TJ-do6Q95jYE",
        "colab": {
          "base_uri": "https://localhost:8080/",
          "height": 265
        },
        "outputId": "140e0860-6ea5-4f5d-ba56-266d82875646"
      },
      "source": [
        "std_plot = matplotlib.pyplot.plot(numpy.std(data, axis = 0))"
      ],
      "execution_count": null,
      "outputs": [
        {
          "output_type": "display_data",
          "data": {
            "image/png": "[encoded data removed]",
            "text/plain": [
              "<Figure size 432x288 with 1 Axes>"
            ]
          },
          "metadata": {
            "needs_background": "light"
          }
        }
      ]
    },
    {
      "cell_type": "code",
      "metadata": {
        "id": "BDepfldD6u3d",
        "colab": {
          "base_uri": "https://localhost:8080/",
          "height": 623
        },
        "outputId": "0a6501f5-24c0-44c4-d9fb-ee0df08ecd89"
      },
      "source": [
        "figure = matplotlib.pyplot.figure(figsize = (3,10))\n",
        "\n",
        "axes1 = figure.add_subplot(3,1,1)\n",
        "axes2 = figure.add_subplot(3,1,2)\n",
        "axes3 = figure.add_subplot(3,1,3)\n",
        "\n",
        "axes1.set_ylabel('average')\n",
        "axes1.set_xlabel('x-axis')\n",
        "axes1.plot(numpy.mean(data, axis=0), drawstyle = 'steps-mid')\n",
        "\n",
        "axes2.set_ylabel('maximum')\n",
        "axes2.set_xlabel('x-axis')\n",
        "axes2.plot(numpy.max(data, axis=0), drawstyle = 'steps-mid')\n",
        "\n",
        "axes3.set_ylabel('minimum')\n",
        "axes3.set_xlabel('x-axis')\n",
        "axes3.plot(numpy.min(data, axis=0), drawstyle = 'steps-mid')"
      ],
      "execution_count": null,
      "outputs": [
        {
          "output_type": "execute_result",
          "data": {
            "text/plain": [
              "[<matplotlib.lines.Line2D at 0x7ffa8aea1910>]"
            ]
          },
          "metadata": {},
          "execution_count": 21
        },
        {
          "output_type": "display_data",
          "data": {
            "image/png": "[encoded data removed]",
            "text/plain": [
              "<Figure size 216x720 with 3 Axes>"
            ]
          },
          "metadata": {
            "needs_background": "light"
          }
        }
      ]
    },
    {
      "cell_type": "code",
      "metadata": {
        "id": "hvtJ44JTgLuv",
        "outputId": "9f3069d4-44e0-4151-aafe-867ae81c1b13",
        "colab": {
          "base_uri": "https://localhost:8080/"
        }
      },
      "source": [
        "string_for_slicing = 'Observation date: 02-Feb-2013'\n",
        "list_for_slicing = [['flourine','F'],\n",
        "                    ['chlorine','cl'],\n",
        "                    ['bromine','Br'],\n",
        "                    ['iodine','I'],\n",
        "                    ['astatine','At']]\n",
        "print(string_for_slicing[-4:])\n",
        "print(list_for_slicing[-4][0])"
      ],
      "execution_count": 15,
      "outputs": [
        {
          "output_type": "stream",
          "name": "stdout",
          "text": [
            "2013\n",
            "chlorine\n"
          ]
        }
      ]
    },
    {
      "cell_type": "code",
      "metadata": {
        "id": "yOLWDSWDyZT_",
        "outputId": "82fffd29-416a-4828-97e8-ba498c4da56d",
        "colab": {
          "base_uri": "https://localhost:8080/"
        }
      },
      "source": [
        "beatles = 'In an octopus garden in the shade' \n",
        "print(beatles[::2])"
      ],
      "execution_count": 19,
      "outputs": [
        {
          "output_type": "stream",
          "name": "stdout",
          "text": [
            "I notpsgre ntesae\n"
          ]
        }
      ]
    }
  ]
}